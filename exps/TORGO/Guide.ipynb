{
 "cells": [
  {
   "cell_type": "markdown",
   "metadata": {},
   "source": [
    "## Guide for obtaining TORGO data and prepare the metadata"
   ]
  },
  {
   "cell_type": "markdown",
   "metadata": {},
   "source": [
    "## Download"
   ]
  },
  {
   "cell_type": "markdown",
   "metadata": {},
   "source": [
    "Please refer to TORGO webpage for downloading the data: https://www.cs.toronto.edu/~complingweb/data/TORGO/torgo.html. No agreement is required to be signed for this.\n",
    "\n",
    "There are four compressed files that are available to the public, the uncompressed files are in total of 18GB. Make sure all four are downloaded.\n",
    "- ``F.tar.bz2``. Females (F01, F03, F04) with dysarthria.\n",
    "- ``FC.tar.bz2``. Female controls (FC01, FC02, FC03) without dysarthria.\n",
    "- ``M.tar.bz2``. Males (M01, M02, M03, M04, M05) with dysarthria.\n",
    "- ``MC.tar.bz2``. Male controls (MC01, MC02, MC03, MC04) without dysarthria.\n",
    "\n",
    "Since the data do not come with an official partition, we need to perform a speaker-indenpendent split for model training and evaluation. Also, as we only need the speech files, we filter out the unwanted files and zip all audio recordings in one compressed file."
   ]
  },
  {
   "cell_type": "markdown",
   "metadata": {},
   "source": [
    "## Data preparation"
   ]
  },
  {
   "cell_type": "code",
   "execution_count": null,
   "metadata": {},
   "outputs": [],
   "source": []
  },
  {
   "cell_type": "markdown",
   "metadata": {},
   "source": [
    "Once the metadata and compressed file are ready, move them to the ``data_og/TORGO`` using the following command:\n",
    "\n",
    "```\n",
    "mv TORGO.tar.gz WavRx/data_og/TORGO/wav\n",
    "```"
   ]
  }
 ],
 "metadata": {
  "language_info": {
   "name": "python"
  }
 },
 "nbformat": 4,
 "nbformat_minor": 2
}
