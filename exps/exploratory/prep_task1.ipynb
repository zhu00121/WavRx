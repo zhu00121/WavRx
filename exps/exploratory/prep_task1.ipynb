{
 "cells": [
  {
   "cell_type": "code",
   "execution_count": 32,
   "metadata": {},
   "outputs": [],
   "source": [
    "import pandas as pd\n",
    "import numpy as np\n",
    "import os\n",
    "import shutil\n",
    "import glob\n",
    "from path import Path\n",
    "from tqdm import tqdm"
   ]
  },
  {
   "cell_type": "code",
   "execution_count": 33,
   "metadata": {},
   "outputs": [],
   "source": [
    "OG_PATH = '/mnt/d/projects/COVID-datasets/Cambridge_Task1'\n",
    "WAV_FOLDER = OG_PATH + '/0426_EN_used_task1'\n",
    "METADATA_FOLDER = OG_PATH + '/data_0426_en_task1.csv'"
   ]
  },
  {
   "cell_type": "code",
   "execution_count": 34,
   "metadata": {},
   "outputs": [],
   "source": [
    "df_og = pd.read_csv(os.path.join(METADATA_FOLDER), sep=';')"
   ]
  },
  {
   "cell_type": "code",
   "execution_count": 35,
   "metadata": {},
   "outputs": [
    {
     "data": {
      "text/html": [
       "<div>\n",
       "<style scoped>\n",
       "    .dataframe tbody tr th:only-of-type {\n",
       "        vertical-align: middle;\n",
       "    }\n",
       "\n",
       "    .dataframe tbody tr th {\n",
       "        vertical-align: top;\n",
       "    }\n",
       "\n",
       "    .dataframe thead th {\n",
       "        text-align: right;\n",
       "    }\n",
       "</style>\n",
       "<table border=\"1\" class=\"dataframe\">\n",
       "  <thead>\n",
       "    <tr style=\"text-align: right;\">\n",
       "      <th></th>\n",
       "      <th>Uid</th>\n",
       "      <th>Age</th>\n",
       "      <th>Sex</th>\n",
       "      <th>Medhistory</th>\n",
       "      <th>Smoking</th>\n",
       "      <th>Language</th>\n",
       "      <th>Date</th>\n",
       "      <th>Folder Name</th>\n",
       "      <th>Symptoms</th>\n",
       "      <th>Covid-Tested</th>\n",
       "      <th>Hospitalized</th>\n",
       "      <th>Location</th>\n",
       "      <th>Voice filename</th>\n",
       "      <th>Cough filename</th>\n",
       "      <th>Breath filename</th>\n",
       "      <th>split</th>\n",
       "      <th>label</th>\n",
       "    </tr>\n",
       "  </thead>\n",
       "  <tbody>\n",
       "    <tr>\n",
       "      <th>0</th>\n",
       "      <td>02zsN3RSwW8M</td>\n",
       "      <td>20-29</td>\n",
       "      <td>Female</td>\n",
       "      <td>None</td>\n",
       "      <td>1to10</td>\n",
       "      <td>en</td>\n",
       "      <td>02-11-2020 21:04:12</td>\n",
       "      <td>2020-11-02-21_04_13_798454</td>\n",
       "      <td>None</td>\n",
       "      <td>negativeOver14</td>\n",
       "      <td>no</td>\n",
       "      <td>-</td>\n",
       "      <td>audio_file_read.wav</td>\n",
       "      <td>audio_file_cough.wav</td>\n",
       "      <td>audio_file_breathe.wav</td>\n",
       "      <td>2</td>\n",
       "      <td>0</td>\n",
       "    </tr>\n",
       "    <tr>\n",
       "      <th>1</th>\n",
       "      <td>02zsN3RSwW8M</td>\n",
       "      <td>20-29</td>\n",
       "      <td>Female</td>\n",
       "      <td>None</td>\n",
       "      <td>1to10</td>\n",
       "      <td>en</td>\n",
       "      <td>04-11-2020 21:09:52</td>\n",
       "      <td>2020-11-04-21_09_53_465125</td>\n",
       "      <td>None</td>\n",
       "      <td>neverThinkHadCOVIDNever</td>\n",
       "      <td>no</td>\n",
       "      <td>-</td>\n",
       "      <td>audio_file_read.wav</td>\n",
       "      <td>audio_file_cough.wav</td>\n",
       "      <td>audio_file_breathe.wav</td>\n",
       "      <td>2</td>\n",
       "      <td>0</td>\n",
       "    </tr>\n",
       "    <tr>\n",
       "      <th>2</th>\n",
       "      <td>047p0mcroGXL</td>\n",
       "      <td>50-59</td>\n",
       "      <td>Female</td>\n",
       "      <td>None</td>\n",
       "      <td>never</td>\n",
       "      <td>en</td>\n",
       "      <td>08-04-2021 13:00:04</td>\n",
       "      <td>2021-04-08-13_00_13_542260</td>\n",
       "      <td>None</td>\n",
       "      <td>neverThinkHadCOVIDNever</td>\n",
       "      <td>no</td>\n",
       "      <td>-</td>\n",
       "      <td>audio_file_read.wav</td>\n",
       "      <td>audio_file_cough.wav</td>\n",
       "      <td>audio_file_breathe.wav</td>\n",
       "      <td>2</td>\n",
       "      <td>0</td>\n",
       "    </tr>\n",
       "    <tr>\n",
       "      <th>3</th>\n",
       "      <td>04sAWoLBAsZj</td>\n",
       "      <td>20-29</td>\n",
       "      <td>Female</td>\n",
       "      <td>None</td>\n",
       "      <td>never</td>\n",
       "      <td>en</td>\n",
       "      <td>01-02-2021 06:39:48</td>\n",
       "      <td>2021-02-01-06_39_51_693778</td>\n",
       "      <td>None</td>\n",
       "      <td>negativeNever</td>\n",
       "      <td>no</td>\n",
       "      <td>-</td>\n",
       "      <td>audio_file_read.wav</td>\n",
       "      <td>audio_file_cough.wav</td>\n",
       "      <td>audio_file_breathe.wav</td>\n",
       "      <td>0</td>\n",
       "      <td>0</td>\n",
       "    </tr>\n",
       "    <tr>\n",
       "      <th>4</th>\n",
       "      <td>061JIoYFqGyr</td>\n",
       "      <td>50-59</td>\n",
       "      <td>Female</td>\n",
       "      <td>None</td>\n",
       "      <td>ex</td>\n",
       "      <td>en</td>\n",
       "      <td>03-11-2020 21:57:34</td>\n",
       "      <td>2020-11-03-21_57_36_164631</td>\n",
       "      <td>None</td>\n",
       "      <td>neverThinkHadCOVIDNever</td>\n",
       "      <td>no</td>\n",
       "      <td>-</td>\n",
       "      <td>audio_file_read.wav</td>\n",
       "      <td>audio_file_cough.wav</td>\n",
       "      <td>audio_file_breathe.wav</td>\n",
       "      <td>2</td>\n",
       "      <td>0</td>\n",
       "    </tr>\n",
       "    <tr>\n",
       "      <th>...</th>\n",
       "      <td>...</td>\n",
       "      <td>...</td>\n",
       "      <td>...</td>\n",
       "      <td>...</td>\n",
       "      <td>...</td>\n",
       "      <td>...</td>\n",
       "      <td>...</td>\n",
       "      <td>...</td>\n",
       "      <td>...</td>\n",
       "      <td>...</td>\n",
       "      <td>...</td>\n",
       "      <td>...</td>\n",
       "      <td>...</td>\n",
       "      <td>...</td>\n",
       "      <td>...</td>\n",
       "      <td>...</td>\n",
       "      <td>...</td>\n",
       "    </tr>\n",
       "    <tr>\n",
       "      <th>9451</th>\n",
       "      <td>ZZOVYSBZRT</td>\n",
       "      <td>20-29</td>\n",
       "      <td>Female</td>\n",
       "      <td>None</td>\n",
       "      <td>never</td>\n",
       "      <td>en</td>\n",
       "      <td>15-12-2020 13:01:30</td>\n",
       "      <td>2020-12-15-13_01_34_096384</td>\n",
       "      <td>drycough,wetcough,shortbreath,tightness,headac...</td>\n",
       "      <td>neverThinkHadCOVIDNever</td>\n",
       "      <td>no</td>\n",
       "      <td>-</td>\n",
       "      <td>voice_ZZOVYSBZRT_1608037290680.wav</td>\n",
       "      <td>cough_ZZOVYSBZRT_1608037290670.wav</td>\n",
       "      <td>breaths_ZZOVYSBZRT_1608037290644.wav</td>\n",
       "      <td>0</td>\n",
       "      <td>1</td>\n",
       "    </tr>\n",
       "    <tr>\n",
       "      <th>9452</th>\n",
       "      <td>2020-11-13-17_08_23_362377</td>\n",
       "      <td>20-29</td>\n",
       "      <td>Male</td>\n",
       "      <td>None</td>\n",
       "      <td>ex</td>\n",
       "      <td>en</td>\n",
       "      <td>form-app-users</td>\n",
       "      <td>2020-11-13-17_08_23_362377</td>\n",
       "      <td>fever,drycough,wetcough,tightness,smelltasteloss</td>\n",
       "      <td>last14</td>\n",
       "      <td>no</td>\n",
       "      <td>-</td>\n",
       "      <td>audio_file_read.wav</td>\n",
       "      <td>audio_file_cough.wav</td>\n",
       "      <td>audio_file_breathe.wav</td>\n",
       "      <td>0</td>\n",
       "      <td>1</td>\n",
       "    </tr>\n",
       "    <tr>\n",
       "      <th>9453</th>\n",
       "      <td>2020-11-16-06_11_16_109602</td>\n",
       "      <td>20-29</td>\n",
       "      <td>Male</td>\n",
       "      <td>None</td>\n",
       "      <td>ecig</td>\n",
       "      <td>en</td>\n",
       "      <td>form-app-users</td>\n",
       "      <td>2020-11-16-06_11_16_109602</td>\n",
       "      <td>drycough,shortbreath,sorethroat</td>\n",
       "      <td>over14</td>\n",
       "      <td>no</td>\n",
       "      <td>-</td>\n",
       "      <td>audio_file_read.wav</td>\n",
       "      <td>audio_file_cough.wav</td>\n",
       "      <td>audio_file_breathe.wav</td>\n",
       "      <td>0</td>\n",
       "      <td>1</td>\n",
       "    </tr>\n",
       "    <tr>\n",
       "      <th>9454</th>\n",
       "      <td>2020-11-22-11_06_00_777194</td>\n",
       "      <td>30-39</td>\n",
       "      <td>Female</td>\n",
       "      <td>asthma</td>\n",
       "      <td>ex</td>\n",
       "      <td>en</td>\n",
       "      <td>form-app-users</td>\n",
       "      <td>2020-11-22-11_06_00_777194</td>\n",
       "      <td>drycough,shortbreath,tightness,headache,muscle...</td>\n",
       "      <td>last14</td>\n",
       "      <td>no</td>\n",
       "      <td>-</td>\n",
       "      <td>audio_file_read.wav</td>\n",
       "      <td>audio_file_cough.wav</td>\n",
       "      <td>audio_file_breathe.wav</td>\n",
       "      <td>2</td>\n",
       "      <td>1</td>\n",
       "    </tr>\n",
       "    <tr>\n",
       "      <th>9455</th>\n",
       "      <td>2020-12-05-17_17_27_367716</td>\n",
       "      <td>20-29</td>\n",
       "      <td>Female</td>\n",
       "      <td>None</td>\n",
       "      <td>never</td>\n",
       "      <td>en</td>\n",
       "      <td>form-app-users</td>\n",
       "      <td>2020-12-05-17_17_27_367716</td>\n",
       "      <td>chills,drycough,shortbreath,tightness,smelltas...</td>\n",
       "      <td>last14</td>\n",
       "      <td>no</td>\n",
       "      <td>-</td>\n",
       "      <td>audio_file_read.wav</td>\n",
       "      <td>audio_file_cough.wav</td>\n",
       "      <td>audio_file_breathe.wav</td>\n",
       "      <td>1</td>\n",
       "      <td>1</td>\n",
       "    </tr>\n",
       "  </tbody>\n",
       "</table>\n",
       "<p>9456 rows × 17 columns</p>\n",
       "</div>"
      ],
      "text/plain": [
       "                             Uid    Age     Sex Medhistory Smoking Language  \\\n",
       "0                   02zsN3RSwW8M  20-29  Female       None   1to10       en   \n",
       "1                   02zsN3RSwW8M  20-29  Female       None   1to10       en   \n",
       "2                   047p0mcroGXL  50-59  Female       None   never       en   \n",
       "3                   04sAWoLBAsZj  20-29  Female       None   never       en   \n",
       "4                   061JIoYFqGyr  50-59  Female       None      ex       en   \n",
       "...                          ...    ...     ...        ...     ...      ...   \n",
       "9451                  ZZOVYSBZRT  20-29  Female       None   never       en   \n",
       "9452  2020-11-13-17_08_23_362377  20-29    Male       None      ex       en   \n",
       "9453  2020-11-16-06_11_16_109602  20-29    Male       None    ecig       en   \n",
       "9454  2020-11-22-11_06_00_777194  30-39  Female     asthma      ex       en   \n",
       "9455  2020-12-05-17_17_27_367716  20-29  Female       None   never       en   \n",
       "\n",
       "                     Date                 Folder Name  \\\n",
       "0     02-11-2020 21:04:12  2020-11-02-21_04_13_798454   \n",
       "1     04-11-2020 21:09:52  2020-11-04-21_09_53_465125   \n",
       "2     08-04-2021 13:00:04  2021-04-08-13_00_13_542260   \n",
       "3     01-02-2021 06:39:48  2021-02-01-06_39_51_693778   \n",
       "4     03-11-2020 21:57:34  2020-11-03-21_57_36_164631   \n",
       "...                   ...                         ...   \n",
       "9451  15-12-2020 13:01:30  2020-12-15-13_01_34_096384   \n",
       "9452       form-app-users  2020-11-13-17_08_23_362377   \n",
       "9453       form-app-users  2020-11-16-06_11_16_109602   \n",
       "9454       form-app-users  2020-11-22-11_06_00_777194   \n",
       "9455       form-app-users  2020-12-05-17_17_27_367716   \n",
       "\n",
       "                                               Symptoms  \\\n",
       "0                                                  None   \n",
       "1                                                  None   \n",
       "2                                                  None   \n",
       "3                                                  None   \n",
       "4                                                  None   \n",
       "...                                                 ...   \n",
       "9451  drycough,wetcough,shortbreath,tightness,headac...   \n",
       "9452   fever,drycough,wetcough,tightness,smelltasteloss   \n",
       "9453                    drycough,shortbreath,sorethroat   \n",
       "9454  drycough,shortbreath,tightness,headache,muscle...   \n",
       "9455  chills,drycough,shortbreath,tightness,smelltas...   \n",
       "\n",
       "                 Covid-Tested Hospitalized Location  \\\n",
       "0              negativeOver14           no        -   \n",
       "1     neverThinkHadCOVIDNever           no        -   \n",
       "2     neverThinkHadCOVIDNever           no        -   \n",
       "3               negativeNever           no        -   \n",
       "4     neverThinkHadCOVIDNever           no        -   \n",
       "...                       ...          ...      ...   \n",
       "9451  neverThinkHadCOVIDNever           no        -   \n",
       "9452                   last14           no        -   \n",
       "9453                   over14           no        -   \n",
       "9454                   last14           no        -   \n",
       "9455                   last14           no        -   \n",
       "\n",
       "                          Voice filename                      Cough filename  \\\n",
       "0                    audio_file_read.wav                audio_file_cough.wav   \n",
       "1                    audio_file_read.wav                audio_file_cough.wav   \n",
       "2                    audio_file_read.wav                audio_file_cough.wav   \n",
       "3                    audio_file_read.wav                audio_file_cough.wav   \n",
       "4                    audio_file_read.wav                audio_file_cough.wav   \n",
       "...                                  ...                                 ...   \n",
       "9451  voice_ZZOVYSBZRT_1608037290680.wav  cough_ZZOVYSBZRT_1608037290670.wav   \n",
       "9452                 audio_file_read.wav                audio_file_cough.wav   \n",
       "9453                 audio_file_read.wav                audio_file_cough.wav   \n",
       "9454                 audio_file_read.wav                audio_file_cough.wav   \n",
       "9455                 audio_file_read.wav                audio_file_cough.wav   \n",
       "\n",
       "                           Breath filename  split  label  \n",
       "0                   audio_file_breathe.wav      2      0  \n",
       "1                   audio_file_breathe.wav      2      0  \n",
       "2                   audio_file_breathe.wav      2      0  \n",
       "3                   audio_file_breathe.wav      0      0  \n",
       "4                   audio_file_breathe.wav      2      0  \n",
       "...                                    ...    ...    ...  \n",
       "9451  breaths_ZZOVYSBZRT_1608037290644.wav      0      1  \n",
       "9452                audio_file_breathe.wav      0      1  \n",
       "9453                audio_file_breathe.wav      0      1  \n",
       "9454                audio_file_breathe.wav      2      1  \n",
       "9455                audio_file_breathe.wav      1      1  \n",
       "\n",
       "[9456 rows x 17 columns]"
      ]
     },
     "execution_count": 35,
     "metadata": {},
     "output_type": "execute_result"
    }
   ],
   "source": [
    "df_og"
   ]
  },
  {
   "cell_type": "code",
   "execution_count": 37,
   "metadata": {},
   "outputs": [],
   "source": [
    "# Add full path to the audios as we will need it later\n",
    "df_og['voice-path'] = None\n",
    "df_og.loc[(df_og['Date'] != 'form-app-users'),'voice-path'] = WAV_FOLDER + '/' + df_og['Uid']+'/'+df_og['Folder Name']+'/'+df_og['Voice filename']\n",
    "df_og.loc[(df_og['Date'] == 'form-app-users'),'voice-path'] = WAV_FOLDER+ '/' + df_og['Date']+'/'+df_og['Folder Name']+'/'+df_og['Voice filename']"
   ]
  },
  {
   "cell_type": "code",
   "execution_count": 38,
   "metadata": {},
   "outputs": [
    {
     "data": {
      "text/plain": [
       "0    4847\n",
       "1    4609\n",
       "Name: label, dtype: int64"
      ]
     },
     "execution_count": 38,
     "metadata": {},
     "output_type": "execute_result"
    }
   ],
   "source": [
    "# Summary\n",
    "df_og['label'].value_counts()"
   ]
  },
  {
   "cell_type": "code",
   "execution_count": 39,
   "metadata": {},
   "outputs": [],
   "source": [
    "WAV_FOLDER_TASK1 = os.path.join(OG_PATH, 'TASK1-VOICE')"
   ]
  },
  {
   "cell_type": "code",
   "execution_count": 18,
   "metadata": {},
   "outputs": [
    {
     "name": "stderr",
     "output_type": "stream",
     "text": [
      "9456it [12:52, 12.24it/s]\n"
     ]
    }
   ],
   "source": [
    "# create a new folder to store the EN wav files\n",
    "os.mkdir(WAV_FOLDER_TASK1)\n",
    "\n",
    "# start copying...\n",
    "# wav files in the new folder are named as \"00001.wav\", \"00002.wav\", ...\n",
    "df_og['voice-path-new'] = None\n",
    "for idx , row in tqdm(df_og.iterrows()):\n",
    "    src = row['voice-path']\n",
    "    dst = os.path.join(WAV_FOLDER_TASK1, f'{idx:05}.wav')\n",
    "    shutil.copyfile(src, dst)\n",
    "    df_og.loc[idx,'voice-path-new'] = dst"
   ]
  },
  {
   "cell_type": "code",
   "execution_count": 19,
   "metadata": {},
   "outputs": [
    {
     "name": "stderr",
     "output_type": "stream",
     "text": [
      "9456it [00:01, 6178.11it/s]\n"
     ]
    }
   ],
   "source": [
    "for idx , row in tqdm(df_og.iterrows()):\n",
    "    df_og.loc[idx,'voice-path-new'] = os.path.join('./data_og/Cambridge/wav/TASK1-VOICE', os.path.basename(df_og.loc[idx,'voice-path-new']))"
   ]
  },
  {
   "cell_type": "code",
   "execution_count": 48,
   "metadata": {},
   "outputs": [],
   "source": [
    "local_data_path = '/home/yizhu/projects/transfer-learning-diagnostics/data_og/Cambridge/metadata/'\n",
    "df_og.to_csv(os.path.join(local_data_path,'TASK1-metadata.csv'),index=False,header=True,sep=';')"
   ]
  },
  {
   "cell_type": "code",
   "execution_count": 58,
   "metadata": {},
   "outputs": [],
   "source": [
    "toy = torch.tensor(df['label'][0]).view(1,-1)[0].type(torch.LongTensor)"
   ]
  },
  {
   "cell_type": "code",
   "execution_count": 59,
   "metadata": {},
   "outputs": [
    {
     "data": {
      "text/plain": [
       "tensor([0])"
      ]
     },
     "execution_count": 59,
     "metadata": {},
     "output_type": "execute_result"
    }
   ],
   "source": [
    "toy"
   ]
  },
  {
   "attachments": {},
   "cell_type": "markdown",
   "metadata": {},
   "source": [
    "Now simply do ```! zip -r TASK1-VOICE.zip TASK1-VOICE/*.wav``` to create a zip file of the EN folder, then move it to ```./data_og/Cambridge/wav``` folder. Our pipeline will automatically unzip the file and prepare it for subsequent training."
   ]
  },
  {
   "cell_type": "code",
   "execution_count": 27,
   "metadata": {},
   "outputs": [],
   "source": [
    "import torchaudio\n",
    "import torch\n",
    "import matplotlib.pyplot as plt\n",
    "import torchaudio.functional as F"
   ]
  },
  {
   "cell_type": "code",
   "execution_count": 30,
   "metadata": {},
   "outputs": [],
   "source": [
    "toy,sr = torchaudio.load(WAV_FOLDER_TASK1+'/00003.wav',normalize=True)\n",
    "signal = torch.mean(toy,axis=0)\n",
    "signal = F.resample(signal,sr,new_freq=16000,\n",
    "                    lowpass_filter_width=64,\n",
    "                    rolloff=0.9475937167399596,\n",
    "                    beta=14.769656459379492\n",
    "                    )\n",
    "signal = signal / torch.max(torch.abs(signal))"
   ]
  },
  {
   "cell_type": "code",
   "execution_count": 24,
   "metadata": {},
   "outputs": [
    {
     "data": {
      "text/plain": [
       "44100"
      ]
     },
     "execution_count": 24,
     "metadata": {},
     "output_type": "execute_result"
    }
   ],
   "source": [
    "sr"
   ]
  },
  {
   "cell_type": "code",
   "execution_count": 31,
   "metadata": {},
   "outputs": [
    {
     "data": {
      "text/plain": [
       "[<matplotlib.lines.Line2D at 0x7ff0fc3fbdc0>]"
      ]
     },
     "execution_count": 31,
     "metadata": {},
     "output_type": "execute_result"
    },
    {
     "data": {
      "image/png": "[encoded data removed]",
      "text/plain": [
       "<Figure size 640x480 with 1 Axes>"
      ]
     },
     "metadata": {},
     "output_type": "display_data"
    }
   ],
   "source": [
    "plt.plot(range(len(signal)),signal.numpy())"
   ]
  }
 ],
 "metadata": {
  "kernelspec": {
   "display_name": "myenv-ANO",
   "language": "python",
   "name": "python3"
  },
  "language_info": {
   "codemirror_mode": {
    "name": "ipython",
    "version": 3
   },
   "file_extension": ".py",
   "mimetype": "text/x-python",
   "name": "python",
   "nbconvert_exporter": "python",
   "pygments_lexer": "ipython3",
   "version": "3.8.13"
  },
  "orig_nbformat": 4
 },
 "nbformat": 4,
 "nbformat_minor": 2
}
