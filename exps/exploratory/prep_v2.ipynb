{
 "cells": [
  {
   "attachments": {},
   "cell_type": "markdown",
   "metadata": {},
   "source": [
    "This script is meant to be used for preparing the data required to train a diagnostics model. The original Cambridge sound database contains 200G sound data, we use only the English voice data. The following steps summarize the preparation work.\n",
    "\n",
    "1. Merge the separate metadata .csv files into one\n",
    "2. Filter the merged metadata file and keep only the wavs that are needed (filter by symptom, language, etc.)\n",
    "3. Loop through samples and save audio files in a new folder (rather than in hierarchical folders)\n",
    "4. Save a new metadata file that describes the info of these filtered audio samples"
   ]
  },
  {
   "cell_type": "code",
   "execution_count": 1,
   "metadata": {},
   "outputs": [],
   "source": [
    "import pandas as pd\n",
    "import numpy as np\n",
    "import os\n",
    "import shutil\n",
    "import glob\n",
    "from path import Path"
   ]
  },
  {
   "cell_type": "code",
   "execution_count": 2,
   "metadata": {},
   "outputs": [],
   "source": [
    "OG_PATH = '/mnt/d/projects/COVID-datasets/Cambridge/covid19_data_0426'\n",
    "WAV_FOLDER = OG_PATH + '/covid19_data_0426'\n",
    "METADATA_FOLDER = OG_PATH + '/all_metadata'"
   ]
  },
  {
   "cell_type": "code",
   "execution_count": 3,
   "metadata": {},
   "outputs": [
    {
     "data": {
      "text/plain": [
       "(48045, 18)"
      ]
     },
     "execution_count": 3,
     "metadata": {},
     "output_type": "execute_result"
    }
   ],
   "source": [
    "# Merge\n",
    "df_android = pd.read_csv(os.path.join(METADATA_FOLDER, 'results_raw_20210426_lan_yamnet_android_noloc.csv'), sep=';')\n",
    "df_ios = pd.read_csv(os.path.join(METADATA_FOLDER, 'results_raw_20210426_lan_yamnet_ios_noloc.csv'), sep=';')\n",
    "df = pd.concat((df_ios,df_android),ignore_index=True)\n",
    "df = df.iloc[:,1:]\n",
    "df.shape"
   ]
  },
  {
   "cell_type": "code",
   "execution_count": 4,
   "metadata": {},
   "outputs": [
    {
     "name": "stderr",
     "output_type": "stream",
     "text": [
      "/tmp/ipykernel_940/3728597917.py:13: FutureWarning: The default value of regex will change from True to False in a future version.\n",
      "  df_new['Voice filename'] = df_new['Voice filename'].str.replace(r'.m4a$', '.wav')\n"
     ]
    },
    {
     "data": {
      "text/plain": [
       "non      13476\n",
       "cough     9189\n",
       "Name: Cough-label, dtype: int64"
      ]
     },
     "execution_count": 4,
     "metadata": {},
     "output_type": "execute_result"
    }
   ],
   "source": [
    "# Get only EN samples\n",
    "df_new = df[df['Language']=='en'].copy()\n",
    "\n",
    "# Generate symptom label (symptomatic vs non-symptomatic)\n",
    "df_new['Cough-label'] = 'non'\n",
    "mask1 = df_new.Symptoms.str.contains('cough',case=False)\n",
    "df_new.loc[mask1,'Cough-label'] = 'cough'\n",
    "\n",
    "# Get those that have the 'valid' checkmark\n",
    "df_new = df_new[df_new['Voice check'] == 'v']\n",
    "\n",
    "# The wav files are already in .wav format but this is not updated in the original metadata file, hence we update it here\n",
    "df_new['Voice filename'] = df_new['Voice filename'].str.replace(r'.m4a$', '.wav')\n",
    "\n",
    "# Add full path to the audios as we will need it later\n",
    "df_new['voice-path'] = WAV_FOLDER + '/' + df_new['Uid']+'/'+df_new['Folder Name']+'/'+df_new['Voice filename']\n",
    "\n",
    "# Clean up index\n",
    "df_new = df_new.reset_index(drop=True)\n",
    "\n",
    "# Summary\n",
    "df_new['Cough-label'].value_counts()"
   ]
  },
  {
   "cell_type": "code",
   "execution_count": 5,
   "metadata": {},
   "outputs": [],
   "source": [
    "WAV_FOLDER_EN = os.path.join(WAV_FOLDER, 'EN') "
   ]
  },
  {
   "cell_type": "code",
   "execution_count": 7,
   "metadata": {},
   "outputs": [],
   "source": [
    "# # create a new folder to store the EN wav files\n",
    "# os.mkdir(WAV_FOLDER_EN)\n",
    "\n",
    "# # start copying...\n",
    "# # wav files in the new folder are named as \"00001.wav\", \"00002.wav\", ...\n",
    "# for idx , row in df_new.iterrows():\n",
    "#     src = row['voice-path']\n",
    "#     dst = os.path.join(WAV_FOLDER_EN, f'{idx:05}.wav')\n",
    "#     shutil.copyfile(src, dst)"
   ]
  },
  {
   "cell_type": "code",
   "execution_count": 6,
   "metadata": {},
   "outputs": [],
   "source": [
    "# create a new column in dataframe to store the new paths, we will use these paths to access wav files during training.\n",
    "new_path = []\n",
    "for idx , row in df_new.iterrows():\n",
    "    new_path.append(os.path.join('./data_og/Cambridge/wav/EN', f'{idx:05}.wav'))\n",
    "\n",
    "df_new['voice-path-new'] = new_path"
   ]
  },
  {
   "cell_type": "code",
   "execution_count": 7,
   "metadata": {},
   "outputs": [
    {
     "data": {
      "text/plain": [
       "0        ./data_og/Cambridge/wav/EN/00000.wav\n",
       "1        ./data_og/Cambridge/wav/EN/00001.wav\n",
       "2        ./data_og/Cambridge/wav/EN/00002.wav\n",
       "3        ./data_og/Cambridge/wav/EN/00003.wav\n",
       "4        ./data_og/Cambridge/wav/EN/00004.wav\n",
       "                         ...                 \n",
       "22660    ./data_og/Cambridge/wav/EN/22660.wav\n",
       "22661    ./data_og/Cambridge/wav/EN/22661.wav\n",
       "22662    ./data_og/Cambridge/wav/EN/22662.wav\n",
       "22663    ./data_og/Cambridge/wav/EN/22663.wav\n",
       "22664    ./data_og/Cambridge/wav/EN/22664.wav\n",
       "Name: voice-path-new, Length: 22665, dtype: object"
      ]
     },
     "execution_count": 7,
     "metadata": {},
     "output_type": "execute_result"
    }
   ],
   "source": [
    "df_new['voice-path-new']"
   ]
  },
  {
   "cell_type": "code",
   "execution_count": 36,
   "metadata": {},
   "outputs": [],
   "source": [
    "local_data_path = '/home/yizhu/projects/transfer-learning-diagnostics/data_og/Cambridge/metadata/'\n",
    "df_new.to_csv(os.path.join(local_data_path,'EN-cough-metadata.csv'),index=False,header=True,sep=';')"
   ]
  },
  {
   "attachments": {},
   "cell_type": "markdown",
   "metadata": {},
   "source": [
    "Now simply do ```! zip -r EN.zip en/*.wav``` to create a zip file of the EN folder, then move it to ```./data_og/Cambridge/wav``` folder. Our pipeline will automatically unzip the file and prepare it for subsequent training."
   ]
  }
 ],
 "metadata": {
  "kernelspec": {
   "display_name": "myenv-ANO",
   "language": "python",
   "name": "python3"
  },
  "language_info": {
   "codemirror_mode": {
    "name": "ipython",
    "version": 3
   },
   "file_extension": ".py",
   "mimetype": "text/x-python",
   "name": "python",
   "nbconvert_exporter": "python",
   "pygments_lexer": "ipython3",
   "version": "3.8.13"
  },
  "orig_nbformat": 4
 },
 "nbformat": 4,
 "nbformat_minor": 2
}
