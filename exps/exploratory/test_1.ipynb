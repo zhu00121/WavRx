{
 "cells": [
  {
   "cell_type": "code",
   "execution_count": 1,
   "metadata": {},
   "outputs": [],
   "source": [
    "import pandas as pd\n",
    "import os\n",
    "import numpy as np"
   ]
  },
  {
   "cell_type": "code",
   "execution_count": 10,
   "metadata": {},
   "outputs": [],
   "source": [
    "local_data_path = '/home/yizhu/projects/transfer-learning-diagnostics/data_og/Cambridge/metadata/'\n",
    "df = pd.read_csv(os.path.join(local_data_path,'EN-metadata.csv'),sep=';')"
   ]
  },
  {
   "cell_type": "code",
   "execution_count": 11,
   "metadata": {},
   "outputs": [
    {
     "data": {
      "text/html": [
       "<div>\n",
       "<style scoped>\n",
       "    .dataframe tbody tr th:only-of-type {\n",
       "        vertical-align: middle;\n",
       "    }\n",
       "\n",
       "    .dataframe tbody tr th {\n",
       "        vertical-align: top;\n",
       "    }\n",
       "\n",
       "    .dataframe thead th {\n",
       "        text-align: right;\n",
       "    }\n",
       "</style>\n",
       "<table border=\"1\" class=\"dataframe\">\n",
       "  <thead>\n",
       "    <tr style=\"text-align: right;\">\n",
       "      <th></th>\n",
       "      <th>Uid</th>\n",
       "      <th>Age</th>\n",
       "      <th>Sex</th>\n",
       "      <th>Medhistory</th>\n",
       "      <th>Smoking</th>\n",
       "      <th>Language</th>\n",
       "      <th>Date</th>\n",
       "      <th>Folder Name</th>\n",
       "      <th>Symptoms</th>\n",
       "      <th>Covid-Tested</th>\n",
       "      <th>...</th>\n",
       "      <th>Voice filename</th>\n",
       "      <th>Cough filename</th>\n",
       "      <th>Breath filename</th>\n",
       "      <th>Voice check</th>\n",
       "      <th>Cough check</th>\n",
       "      <th>Breath check</th>\n",
       "      <th>Sampling Rate</th>\n",
       "      <th>Symptom-label</th>\n",
       "      <th>voice-path</th>\n",
       "      <th>voice-path-new</th>\n",
       "    </tr>\n",
       "  </thead>\n",
       "  <tbody>\n",
       "    <tr>\n",
       "      <th>0</th>\n",
       "      <td>00ELrVjrzo6L</td>\n",
       "      <td>20-29</td>\n",
       "      <td>Male</td>\n",
       "      <td>None</td>\n",
       "      <td>never</td>\n",
       "      <td>en</td>\n",
       "      <td>16-11-2020 06:07:54</td>\n",
       "      <td>2020-11-16-06_08_08_314177</td>\n",
       "      <td>None</td>\n",
       "      <td>neverThinkHadCOVIDNow</td>\n",
       "      <td>...</td>\n",
       "      <td>audio_file_read.wav</td>\n",
       "      <td>audio_file_cough.m4a</td>\n",
       "      <td>audio_file_breathe.m4a</td>\n",
       "      <td>v</td>\n",
       "      <td>c</td>\n",
       "      <td>b</td>\n",
       "      <td>44100</td>\n",
       "      <td>non</td>\n",
       "      <td>/mnt/d/projects/COVID-datasets/Cambridge/covid...</td>\n",
       "      <td>./data_og/Cambridge/wav/EN/00000.wav</td>\n",
       "    </tr>\n",
       "    <tr>\n",
       "      <th>1</th>\n",
       "      <td>00nJAQ2uNrUW</td>\n",
       "      <td>20-29</td>\n",
       "      <td>Male</td>\n",
       "      <td>None</td>\n",
       "      <td>21+</td>\n",
       "      <td>en</td>\n",
       "      <td>02-11-2020 17:38:28</td>\n",
       "      <td>2020-11-02-17_38_31_912629</td>\n",
       "      <td>None</td>\n",
       "      <td>negativeLast14</td>\n",
       "      <td>...</td>\n",
       "      <td>audio_file_read.wav</td>\n",
       "      <td>audio_file_cough.m4a</td>\n",
       "      <td>audio_file_breathe.m4a</td>\n",
       "      <td>v</td>\n",
       "      <td>c</td>\n",
       "      <td>n</td>\n",
       "      <td>44100</td>\n",
       "      <td>non</td>\n",
       "      <td>/mnt/d/projects/COVID-datasets/Cambridge/covid...</td>\n",
       "      <td>./data_og/Cambridge/wav/EN/00001.wav</td>\n",
       "    </tr>\n",
       "    <tr>\n",
       "      <th>2</th>\n",
       "      <td>00PM5iIqU9ML</td>\n",
       "      <td>60-69</td>\n",
       "      <td>Male</td>\n",
       "      <td>None</td>\n",
       "      <td>ex</td>\n",
       "      <td>en</td>\n",
       "      <td>03-11-2020 08:03:59</td>\n",
       "      <td>2020-11-03-08_04_00_950386</td>\n",
       "      <td>None</td>\n",
       "      <td>neverThinkHadCOVIDNever</td>\n",
       "      <td>...</td>\n",
       "      <td>audio_file_read.wav</td>\n",
       "      <td>audio_file_cough.m4a</td>\n",
       "      <td>audio_file_breathe.m4a</td>\n",
       "      <td>v</td>\n",
       "      <td>c</td>\n",
       "      <td>b</td>\n",
       "      <td>44100</td>\n",
       "      <td>non</td>\n",
       "      <td>/mnt/d/projects/COVID-datasets/Cambridge/covid...</td>\n",
       "      <td>./data_og/Cambridge/wav/EN/00002.wav</td>\n",
       "    </tr>\n",
       "    <tr>\n",
       "      <th>3</th>\n",
       "      <td>00PM5iIqU9ML</td>\n",
       "      <td>60-69</td>\n",
       "      <td>Male</td>\n",
       "      <td>None</td>\n",
       "      <td>ex</td>\n",
       "      <td>en</td>\n",
       "      <td>05-11-2020 08:05:15</td>\n",
       "      <td>2020-11-05-08_05_16_256045</td>\n",
       "      <td>None</td>\n",
       "      <td>neverThinkHadCOVIDNever</td>\n",
       "      <td>...</td>\n",
       "      <td>audio_file_read.wav</td>\n",
       "      <td>audio_file_cough.m4a</td>\n",
       "      <td>audio_file_breathe.m4a</td>\n",
       "      <td>v</td>\n",
       "      <td>c</td>\n",
       "      <td>b</td>\n",
       "      <td>44100</td>\n",
       "      <td>non</td>\n",
       "      <td>/mnt/d/projects/COVID-datasets/Cambridge/covid...</td>\n",
       "      <td>./data_og/Cambridge/wav/EN/00003.wav</td>\n",
       "    </tr>\n",
       "    <tr>\n",
       "      <th>4</th>\n",
       "      <td>00PM5iIqU9ML</td>\n",
       "      <td>60-69</td>\n",
       "      <td>Male</td>\n",
       "      <td>None</td>\n",
       "      <td>ex</td>\n",
       "      <td>en</td>\n",
       "      <td>07-11-2020 08:06:39</td>\n",
       "      <td>2020-11-07-08_06_40_382701</td>\n",
       "      <td>None</td>\n",
       "      <td>neverThinkHadCOVIDNever</td>\n",
       "      <td>...</td>\n",
       "      <td>audio_file_read.wav</td>\n",
       "      <td>audio_file_cough.m4a</td>\n",
       "      <td>audio_file_breathe.m4a</td>\n",
       "      <td>v</td>\n",
       "      <td>c</td>\n",
       "      <td>b</td>\n",
       "      <td>44100</td>\n",
       "      <td>non</td>\n",
       "      <td>/mnt/d/projects/COVID-datasets/Cambridge/covid...</td>\n",
       "      <td>./data_og/Cambridge/wav/EN/00004.wav</td>\n",
       "    </tr>\n",
       "  </tbody>\n",
       "</table>\n",
       "<p>5 rows × 21 columns</p>\n",
       "</div>"
      ],
      "text/plain": [
       "            Uid    Age   Sex Medhistory Smoking Language                 Date  \\\n",
       "0  00ELrVjrzo6L  20-29  Male       None   never       en  16-11-2020 06:07:54   \n",
       "1  00nJAQ2uNrUW  20-29  Male       None     21+       en  02-11-2020 17:38:28   \n",
       "2  00PM5iIqU9ML  60-69  Male       None      ex       en  03-11-2020 08:03:59   \n",
       "3  00PM5iIqU9ML  60-69  Male       None      ex       en  05-11-2020 08:05:15   \n",
       "4  00PM5iIqU9ML  60-69  Male       None      ex       en  07-11-2020 08:06:39   \n",
       "\n",
       "                  Folder Name Symptoms             Covid-Tested  ...  \\\n",
       "0  2020-11-16-06_08_08_314177     None    neverThinkHadCOVIDNow  ...   \n",
       "1  2020-11-02-17_38_31_912629     None           negativeLast14  ...   \n",
       "2  2020-11-03-08_04_00_950386     None  neverThinkHadCOVIDNever  ...   \n",
       "3  2020-11-05-08_05_16_256045     None  neverThinkHadCOVIDNever  ...   \n",
       "4  2020-11-07-08_06_40_382701     None  neverThinkHadCOVIDNever  ...   \n",
       "\n",
       "        Voice filename        Cough filename         Breath filename  \\\n",
       "0  audio_file_read.wav  audio_file_cough.m4a  audio_file_breathe.m4a   \n",
       "1  audio_file_read.wav  audio_file_cough.m4a  audio_file_breathe.m4a   \n",
       "2  audio_file_read.wav  audio_file_cough.m4a  audio_file_breathe.m4a   \n",
       "3  audio_file_read.wav  audio_file_cough.m4a  audio_file_breathe.m4a   \n",
       "4  audio_file_read.wav  audio_file_cough.m4a  audio_file_breathe.m4a   \n",
       "\n",
       "  Voice check Cough check Breath check Sampling Rate  Symptom-label  \\\n",
       "0           v           c            b         44100            non   \n",
       "1           v           c            n         44100            non   \n",
       "2           v           c            b         44100            non   \n",
       "3           v           c            b         44100            non   \n",
       "4           v           c            b         44100            non   \n",
       "\n",
       "                                          voice-path  \\\n",
       "0  /mnt/d/projects/COVID-datasets/Cambridge/covid...   \n",
       "1  /mnt/d/projects/COVID-datasets/Cambridge/covid...   \n",
       "2  /mnt/d/projects/COVID-datasets/Cambridge/covid...   \n",
       "3  /mnt/d/projects/COVID-datasets/Cambridge/covid...   \n",
       "4  /mnt/d/projects/COVID-datasets/Cambridge/covid...   \n",
       "\n",
       "                         voice-path-new  \n",
       "0  ./data_og/Cambridge/wav/EN/00000.wav  \n",
       "1  ./data_og/Cambridge/wav/EN/00001.wav  \n",
       "2  ./data_og/Cambridge/wav/EN/00002.wav  \n",
       "3  ./data_og/Cambridge/wav/EN/00003.wav  \n",
       "4  ./data_og/Cambridge/wav/EN/00004.wav  \n",
       "\n",
       "[5 rows x 21 columns]"
      ]
     },
     "execution_count": 11,
     "metadata": {},
     "output_type": "execute_result"
    }
   ],
   "source": [
    "df.head()"
   ]
  },
  {
   "cell_type": "code",
   "execution_count": 12,
   "metadata": {},
   "outputs": [
    {
     "data": {
      "text/plain": [
       "14108"
      ]
     },
     "execution_count": 12,
     "metadata": {},
     "output_type": "execute_result"
    }
   ],
   "source": [
    "# number of users\n",
    "len(df['Uid'].unique())"
   ]
  },
  {
   "cell_type": "code",
   "execution_count": 15,
   "metadata": {},
   "outputs": [
    {
     "data": {
      "text/plain": [
       "symptomatic    12432\n",
       "non             9883\n",
       "Name: Symptom-label, dtype: int64"
      ]
     },
     "execution_count": 15,
     "metadata": {},
     "output_type": "execute_result"
    }
   ],
   "source": [
    "# symptom distribution\n",
    "df['Symptom-label'].value_counts()"
   ]
  },
  {
   "cell_type": "code",
   "execution_count": 16,
   "metadata": {},
   "outputs": [],
   "source": [
    "mask_1 = df['Symptom-label'] == 'symptomatic'\n",
    "mask_2 = df['Symptom-label'] == 'non'"
   ]
  },
  {
   "cell_type": "code",
   "execution_count": 21,
   "metadata": {},
   "outputs": [],
   "source": [
    "list_1 = list(df[mask_1]['Uid'].unique())"
   ]
  },
  {
   "cell_type": "code",
   "execution_count": 22,
   "metadata": {},
   "outputs": [],
   "source": [
    "list_2 = list(df[mask_2]['Uid'].unique())"
   ]
  },
  {
   "cell_type": "code",
   "execution_count": 25,
   "metadata": {},
   "outputs": [
    {
     "name": "stdout",
     "output_type": "stream",
     "text": [
      "9381\n",
      "6001\n"
     ]
    }
   ],
   "source": [
    "print(len(list_1))\n",
    "print(len(list_2))"
   ]
  },
  {
   "cell_type": "code",
   "execution_count": 26,
   "metadata": {},
   "outputs": [
    {
     "name": "stdout",
     "output_type": "stream",
     "text": [
      "1274\n"
     ]
    }
   ],
   "source": [
    "itsc = list(set(list_1) & set(list_2))\n",
    "print(len(itsc))"
   ]
  },
  {
   "cell_type": "code",
   "execution_count": 38,
   "metadata": {},
   "outputs": [
    {
     "name": "stdout",
     "output_type": "stream",
     "text": [
      "8107\n"
     ]
    }
   ],
   "source": [
    "list_1_new = set(list_1).difference(set(list_2))\n",
    "print(len(list_1_new))"
   ]
  },
  {
   "cell_type": "code",
   "execution_count": 79,
   "metadata": {},
   "outputs": [],
   "source": [
    "import random\n",
    "random.Random(2023).shuffle(list(list_1_new))\n",
    "random.shuffle(list_2)"
   ]
  },
  {
   "cell_type": "code",
   "execution_count": 80,
   "metadata": {},
   "outputs": [],
   "source": [
    "pos_spk_ids = list(list_1_new)\n",
    "neg_spk_ids = list_2"
   ]
  },
  {
   "cell_type": "code",
   "execution_count": 81,
   "metadata": {},
   "outputs": [],
   "source": [
    "train_spk_pos = pos_spk_ids[:int(len(pos_spk_ids)*0.7)]\n",
    "train_spk_neg = neg_spk_ids[:int(len(neg_spk_ids)*0.7)]\n",
    "valid_spk_pos = pos_spk_ids[int(len(pos_spk_ids)*0.7):int(len(pos_spk_ids)*0.8)]\n",
    "valid_spk_neg = neg_spk_ids[int(len(neg_spk_ids)*0.7):int(len(pos_spk_ids)*0.8)]\n",
    "test_spk_pos = pos_spk_ids[int(len(pos_spk_ids)*0.8):]\n",
    "test_spk_neg = neg_spk_ids[int(len(neg_spk_ids)*0.8):]"
   ]
  },
  {
   "cell_type": "code",
   "execution_count": 85,
   "metadata": {},
   "outputs": [
    {
     "data": {
      "text/plain": [
       "5674"
      ]
     },
     "execution_count": 85,
     "metadata": {},
     "output_type": "execute_result"
    }
   ],
   "source": [
    "len(train_spk_pos)"
   ]
  },
  {
   "cell_type": "code",
   "execution_count": 93,
   "metadata": {},
   "outputs": [
    {
     "data": {
      "text/plain": [
       "(2380, 21)"
      ]
     },
     "execution_count": 93,
     "metadata": {},
     "output_type": "execute_result"
    }
   ],
   "source": [
    "df[df['Uid'].isin(test_spk_neg)].shape"
   ]
  }
 ],
 "metadata": {
  "kernelspec": {
   "display_name": "myenv-ANO",
   "language": "python",
   "name": "python3"
  },
  "language_info": {
   "codemirror_mode": {
    "name": "ipython",
    "version": 3
   },
   "file_extension": ".py",
   "mimetype": "text/x-python",
   "name": "python",
   "nbconvert_exporter": "python",
   "pygments_lexer": "ipython3",
   "version": "3.8.13"
  },
  "orig_nbformat": 4
 },
 "nbformat": 4,
 "nbformat_minor": 2
}
